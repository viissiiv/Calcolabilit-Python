{
 "cells": [
  {
   "cell_type": "markdown",
   "id": "36dd95e9",
   "metadata": {},
   "source": [
    "## Parte di codice"
   ]
  },
  {
   "cell_type": "markdown",
   "id": "0797b233",
   "metadata": {},
   "source": [
    "**Spiegazione:** La funzione `check_truth` verifica che un dato assegnamanto di verità `prop_var`, i cui elementi sono $0 = False$ e $1 = True$,verifica le clausole. La formula in input è in forma normale congiuntiva. Prima di tutto creo la lista `external_and` i cui elementi corrisponderanno al valore delle singole clausole, viste clausole **OR**. Per ognuna delle clausole, per ogni elemento nella clausola, verifico se è positivo ed in questo caso lo considero come indice di `prop_var` per aggiungere il valore di verità della variabile proposizionale corrispondente alla lista `internal_or`; viceversa, nel caso in cui si negativo lo considero come indice positivo di `prop_var` per aggiungere la negazione della variabile proposizionale corrispondente (per farlo sfrutto la somma modulo 2). Nel caso in cui in `internal_or` ci sia almeno un 1, la clausola è verificata e aggiungo 1 alla lista `external_and`. Dopo aver verificato ogni clausola verifico la presenza di uno 0 in `external_and`, in tal l'**AND** non risulta verificato, in altre parole l'assegnamento di verità non soddisfa le clausole, la function ritorna quindi 0; viceversa le soddisfa e la function ritorna 1. "
   ]
  },
  {
   "cell_type": "code",
   "execution_count": 43,
   "id": "4b8f4844",
   "metadata": {},
   "outputs": [],
   "source": [
    "def check_truth(prop_var, T, num_clauses):\n",
    "    #controllo che le clausole siano soddisfatte dall'assegnamento di verità\n",
    "    external_and = [0 for _ in range(num_clauses)]\n",
    "    for i,clause in enumerate(T):\n",
    "        internal_or = []\n",
    "        for el in clause:\n",
    "            if el > 0:\n",
    "                internal_or.append(prop_var[el - 1])\n",
    "            else:\n",
    "                internal_or.append((prop_var[-el - 1] + 1) % 2)\n",
    "        #lista contenente i valori di verità delle variabili proposizionali che appaiono nella clausola \n",
    "        if 1 in internal_or: external_and[i] = 1\n",
    "    if 0 in external_and: \n",
    "        return 0 #L'assegnamento di verità non soddisfa le clausole\n",
    "    else: \n",
    "        return 1 #L'assegnamento di verità soddisfa le clausole"
   ]
  },
  {
   "cell_type": "markdown",
   "id": "ee304caf",
   "metadata": {},
   "source": [
    "**Spiegazione:** L'input di `sat_verify` è un file di test contenente nella prima riga rispettivamente il numero di variabili proposizionali da determinare e il numero di clausole da rispettare. Nelle righe successive devono essere inserire le clausole. Le variabili proposizionali nella formula vanno inserite usando un intero per indicarne l'indice, separate da spazi. Va usato un interno negativo per indicarne la negazione. Tali interi devono essere presi in $\\{1, \\dots, n\\}$, con $n$ numero di variabili. \n",
    "Nell'algoritmo vengono testati alcuni assegnamenti di verità casuali, usando la function `check_truth`, fino ad un numero massimo di test da effettuare fissato. Nel caso entro questo range non vengano trovati assegnamenti di verità validi si procede per forza bruta: vengono costruiti tutti i possibili assegnamenti di verità dato $n$ e verificati uno per uno, dando come output il primo che soddisfa le clausole. \n",
    "**ATTENZIONE:** La costruzione di tutti i possibili assegnamenti di verità richiede tempo esponenziale. \n",
    "È possibile fare una modifica del programma in modo che non vengano cotruiti tutti a priori ma verificati volta per volta. Naturalmente, nel caso peggiore, il tempo richiesto è sempre esponenziale in $n$. "
   ]
  },
  {
   "cell_type": "code",
   "execution_count": 56,
   "id": "396fe79c",
   "metadata": {},
   "outputs": [],
   "source": [
    "def sat_verify(file_path):\n",
    "    with open(file_path, 'r') as input_text:\n",
    "        lines = input_text.readlines()\n",
    "    T = [line.split() for line in lines]\n",
    "    T = [[int(col) for col in row] for row in T] #aggiorno T modificando le stringhe lette in input in interi\n",
    "    \n",
    "    num_var = T[0][0] #Il primo elemento della prima riga di l mi da il numero di variabili proposizionali da considerare\n",
    "    num_clauses = T[0][1] #Il secondo elemento della prima riga di l mi da il numero di clausole da verificare\n",
    "    \n",
    "    \n",
    "    max_count = 20 # massimo numero di test che voglio effettuare costruendo casulamente l'assegnamento di verità\n",
    "    count = 0\n",
    "    while count < max_count:\n",
    "        prop_var = [random.choice([1, 0]) for i in range(num_var)]\n",
    "        count += 1\n",
    "        if check_truth(prop_var, T[1:], num_clauses) == 1:\n",
    "            print(f\"\"\"Un assegnamento di verita che soddisfa le clausole è il seguente:\n",
    "{prop_var}\"\"\")\n",
    "            print(f\"Il numero di test effettuati è: {count}\")  \n",
    "            break\n",
    "    \n",
    "    if count == max_count: # dopo un numero fissato di test cerco un assegnamento di verità che soddisfa le clausole costruendoli tutti \n",
    "        print(f\"Il numero di test effettuati senza successo è: {count}\")\n",
    "        all_prop_var = list(product(range(2), repeat=num_var)) # lista contenente tutte le possibili combinazioni di vettori binari di lunghezza num_var\n",
    "        t = False\n",
    "        for i in range(len(all_prop_var)):\n",
    "            if check_truth(all_prop_var[i], T, num_clauses) == 1:\n",
    "                t = True\n",
    "                break\n",
    "        if t: \n",
    "            print(f\"\"\"Un assegnamento di verita che soddisfa le clausole è il seguente:\n",
    "{all_prop_var[i]}\"\"\")\n",
    "        else:\n",
    "            print(\"Non esiste un assegnamento di verita che soddisfa le clausole\")        "
   ]
  },
  {
   "cell_type": "code",
   "execution_count": 63,
   "id": "3da69d62",
   "metadata": {},
   "outputs": [
    {
     "name": "stdout",
     "output_type": "stream",
     "text": [
      "Un assegnamento di verita che soddisfa le clausole è il seguente:\n",
      "[0, 1, 0, 1, 0, 1, 1, 1, 0, 1]\n",
      "Il numero di test effettuati è: 1\n"
     ]
    }
   ],
   "source": [
    "from itertools import product\n",
    "import random\n",
    "\n",
    "sat_verify('test.txt')"
   ]
  },
  {
   "cell_type": "markdown",
   "id": "e7679215",
   "metadata": {},
   "source": [
    "Il file di testo preso in input in questo esempio è il seguente:\n",
    "\n",
    "```10 3\n",
    "-2 10 -9 \n",
    "2 3 1\n",
    "4 -10 6 ```"
   ]
  }
 ],
 "metadata": {
  "kernelspec": {
   "display_name": "Python 3 (ipykernel)",
   "language": "python",
   "name": "python3"
  },
  "language_info": {
   "codemirror_mode": {
    "name": "ipython",
    "version": 3
   },
   "file_extension": ".py",
   "mimetype": "text/x-python",
   "name": "python",
   "nbconvert_exporter": "python",
   "pygments_lexer": "ipython3",
   "version": "3.9.7"
  }
 },
 "nbformat": 4,
 "nbformat_minor": 5
}
