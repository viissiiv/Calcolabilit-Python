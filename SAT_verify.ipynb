{
 "cells": [
  {
   "cell_type": "markdown",
   "id": "50ce90cd",
   "metadata": {},
   "source": [
    "**Spiegazione**"
   ]
  },
  {
   "cell_type": "code",
   "execution_count": 15,
   "id": "77543214",
   "metadata": {},
   "outputs": [
    {
     "name": "stdout",
     "output_type": "stream",
     "text": [
      "[0, 1, 0, 0, 1, 1, 1, 0, 1, 1, 1, False, False, False, True, False, False, False, True, True, False]\n"
     ]
    }
   ],
   "source": [
    "def build_var(prop_var):\n",
    "    prop_var_copy = [var for var in prop_var] #copia di prop_var\n",
    "    \n",
    "    #costruisco la lista contenente le variabili proposizionali date in input e delle loro negazioni\n",
    "    pv = [0] + [var for var in prop_var_copy] \n",
    "    prop_var_copy.reverse()\n",
    "    prop_var_copy = [not var for var in prop_var_copy]\n",
    "    pv += prop_var_copy\n",
    "    return pv\n",
    "\n",
    "print(build_var([1, 0, 0, 1, 1, 1, 0, 1, 1, 1]))"
   ]
  },
  {
   "cell_type": "markdown",
   "id": "24fe7c38",
   "metadata": {},
   "source": [
    "**Spiegazione**"
   ]
  },
  {
   "cell_type": "code",
   "execution_count": 8,
   "id": "5483cf34",
   "metadata": {},
   "outputs": [],
   "source": [
    "def check_truth(prop_var, T, num_clauses):\n",
    "    pv = build_var(prop_var)\n",
    "\n",
    "    #controllo che le clausole siano soddisfatte dall'assegnamento di verità\n",
    "    v = [0 for _ in range(num_clauses)] \n",
    "    for clause in range(num_clauses):\n",
    "        #lista contenente i valori di verità delle variabili proposizionali che appaiono nella clausola\n",
    "        or_clause = [pv[T[clause + 1][i]]  for i in range(len(T[clause + 1]))] \n",
    "        if 1 in or_clause: v[clause] = 1\n",
    "    \n",
    "    if 0 in v: \n",
    "        flag = 0 #L'assegnamento di verità non soddisfa le clausole\n",
    "    else: \n",
    "        flag = 1 #L'assegnamento di verità soddisfa le clausole\n",
    "    \n",
    "    return flag   "
   ]
  },
  {
   "cell_type": "markdown",
   "id": "8aea3d2e",
   "metadata": {},
   "source": [
    "**Spiegazione**"
   ]
  },
  {
   "cell_type": "code",
   "execution_count": 9,
   "id": "ad76185d",
   "metadata": {},
   "outputs": [],
   "source": [
    "def sat_verify(file_path):\n",
    "    with open(file_path, 'r') as input_text:\n",
    "        lines = input_text.readlines()\n",
    "    T = [line.split() for line in lines]\n",
    "    \n",
    "    for row in range(len(T)): #aggiorno T modificando le stringhe lette in input in interi\n",
    "        for col in range(len(T[row])):\n",
    "            T[row][col] = int(T[row][col])\n",
    "\n",
    "    num_var = T[0][0] #Il primo elemento della prima riga di l mi da il numero di variabili proposizionali da considerare\n",
    "    num_clauses = T[0][1] #Il secondo elemento della prima riga di l mi da il numero di clausole da verificare\n",
    "    \n",
    "    count = 0\n",
    "    max_count = 20 # massimo numero di test che voglio effettuare costruendo casulamente l'assegnamento di verità\n",
    "    while count < max_count:\n",
    "        prop_var = [random.choice([1, 0]) for i in range(num_var)]\n",
    "        count += 1\n",
    "        if check_truth(prop_var, T, num_clauses) == 1:\n",
    "            print(f\"\"\"Un assegnamento di verita che soddisfa le clausole è il seguente:\n",
    "{prop_var}\"\"\")\n",
    "            print(f\"Il numero di test effettuati è: {count}\")  \n",
    "            break\n",
    "    print(count)\n",
    "    \n",
    "#     if count == max_count: # dopo un numero fissato di test cerco un assegnamento di verità che soddisfa le clausole costruendoli tutti \n",
    "#         all_prop_var = list(product(range(2), repeat=num_var)) # lista contenente tutte le possibili combinazioni di vettori binari di lunghezza num_var\n",
    "#         t = False\n",
    "#         for i in range(len(all_prop_var)):\n",
    "#             if check_truth(all_prop_var[i], T, num_clauses) == 1:\n",
    "#                 t = True\n",
    "#                 break\n",
    "#         if t: \n",
    "#             print(f\"\"\"Un assegnamento di verita che soddisfa le clausole è il seguente:\n",
    "# {all_prop_var[i]}\"\"\")\n",
    "#         else:\n",
    "#             print(\"Non esiste un assegnamento di verita che soddisfa le clausole\")"
   ]
  },
  {
   "cell_type": "code",
   "execution_count": 12,
   "id": "dc988b15",
   "metadata": {},
   "outputs": [
    {
     "name": "stdout",
     "output_type": "stream",
     "text": [
      "Un assegnamento di verita che soddisfa le clausole è il seguente:\n",
      "[1, 0, 0, 1, 1, 1, 0, 1, 1, 1]\n",
      "Il numero di test effettuati è: 1\n",
      "1\n"
     ]
    }
   ],
   "source": [
    "from itertools import product\n",
    "import random\n",
    "\n",
    "sat_verify('test.txt')"
   ]
  }
 ],
 "metadata": {
  "kernelspec": {
   "display_name": "Python 3 (ipykernel)",
   "language": "python",
   "name": "python3"
  },
  "language_info": {
   "codemirror_mode": {
    "name": "ipython",
    "version": 3
   },
   "file_extension": ".py",
   "mimetype": "text/x-python",
   "name": "python",
   "nbconvert_exporter": "python",
   "pygments_lexer": "ipython3",
   "version": "3.9.7"
  }
 },
 "nbformat": 4,
 "nbformat_minor": 5
}
